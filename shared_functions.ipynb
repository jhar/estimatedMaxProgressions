{
 "cells": [
  {
   "cell_type": "code",
   "execution_count": 1,
   "metadata": {},
   "outputs": [],
   "source": [
    "from datetime import datetime\n",
    "import json\n",
    "import matplotlib.pyplot as plt\n",
    "import numpy as np\n",
    "\n",
    "def plotWithRegression(path, name, annotation=None):\n",
    "    # Load data from path\n",
    "    with open(path) as file:\n",
    "        log = json.load(file)\n",
    "    \n",
    "    # Convert columns to numpy arrays\n",
    "    dates = np.array([entry['date'] for entry in log])\n",
    "    estimated_maxes = np.array([entry['estimatedMax'] for entry in log])\n",
    "\n",
    "    # Convert dates to datetime objects for proper plotting\n",
    "    date_objects = [datetime.strptime(date, \"%m/%d/%Y\") for date in dates]\n",
    "\n",
    "    # Convert dates to numerical values for regression\n",
    "    num_dates = np.linspace(0, len(date_objects) - 1, len(date_objects))\n",
    "\n",
    "    # Perform polynomial regression of degree 3\n",
    "    regression_coeffs = np.polyfit(num_dates, estimated_maxes, 3)\n",
    "    regression = np.poly1d(regression_coeffs)\n",
    "    regression_values = regression(num_dates)\n",
    "\n",
    "    # Create the line chart\n",
    "    plt.figure(figsize=(10, 6))\n",
    "    plt.plot(date_objects, estimated_maxes, marker='o')\n",
    "    plt.plot(date_objects, regression_values, color='red', linestyle='dashed', label='Polynomial Regression')\n",
    "    plt.title(f'{name} - Estimated Max Progression')\n",
    "    plt.xlabel(\"Date\")\n",
    "    plt.ylabel(\"Estimated Max\")\n",
    "    plt.xticks(rotation=45)\n",
    "    \n",
    "    if annotation:\n",
    "        plt.annotate(annotation[0], xy=annotation[1], xycoords='axes fraction', fontsize=10, ha='center')\n",
    "        \n",
    "    plt.tight_layout()\n",
    "\n",
    "    # Display the chart\n",
    "    plt.show()"
   ]
  },
  {
   "cell_type": "code",
   "execution_count": null,
   "metadata": {},
   "outputs": [],
   "source": []
  }
 ],
 "metadata": {
  "kernelspec": {
   "display_name": "Python 3",
   "language": "python",
   "name": "python3"
  },
  "language_info": {
   "codemirror_mode": {
    "name": "ipython",
    "version": 3
   },
   "file_extension": ".py",
   "mimetype": "text/x-python",
   "name": "python",
   "nbconvert_exporter": "python",
   "pygments_lexer": "ipython3",
   "version": "3.9.6"
  },
  "orig_nbformat": 4
 },
 "nbformat": 4,
 "nbformat_minor": 2
}
