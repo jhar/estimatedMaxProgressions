{
 "cells": [
  {
   "cell_type": "code",
   "execution_count": 2,
   "metadata": {},
   "outputs": [],
   "source": [
    "import matplotlib.pyplot as plt\n",
    "import numpy as np\n",
    "from datetime import datetime\n",
    "\n",
    "def plotWithRegression(data, name):\n",
    "    # Separate the dates and estimated max values\n",
    "    dates, estimated_max = zip(*data)\n",
    "\n",
    "    # Convert dates to datetime objects for proper plotting\n",
    "    date_objects = [datetime.strptime(date, \"%m/%d/%Y\") for date in dates]\n",
    "\n",
    "    # Convert dates to numerical values for regression\n",
    "    num_dates = np.linspace(0, len(date_objects) - 1, len(date_objects))\n",
    "\n",
    "    # Convert estimated max values to a numpy array\n",
    "    estimated_max_array = np.array(estimated_max)\n",
    "\n",
    "    # Perform polynomial regression of degree 3\n",
    "    poly_degree = 3\n",
    "    regression_coeffs = np.polyfit(num_dates, estimated_max_array, poly_degree)\n",
    "    regression = np.poly1d(regression_coeffs)\n",
    "    regression_values = regression(num_dates)\n",
    "\n",
    "    # Create the line chart\n",
    "    plt.figure(figsize=(10, 6))\n",
    "    plt.plot(date_objects, estimated_max, marker='o')\n",
    "    plt.plot(date_objects, regression_values, color='red', linestyle='dashed', label='Polynomial Regression')\n",
    "    plt.title(f'{name} - Estimated Max Progression')\n",
    "    plt.xlabel(\"Date\")\n",
    "    plt.ylabel(\"Estimated Max\")\n",
    "    plt.xticks(rotation=45)\n",
    "    plt.tight_layout()\n",
    "\n",
    "    # Display the chart\n",
    "    plt.show()"
   ]
  },
  {
   "cell_type": "code",
   "execution_count": null,
   "metadata": {},
   "outputs": [],
   "source": []
  }
 ],
 "metadata": {
  "kernelspec": {
   "display_name": "Python 3",
   "language": "python",
   "name": "python3"
  },
  "language_info": {
   "codemirror_mode": {
    "name": "ipython",
    "version": 3
   },
   "file_extension": ".py",
   "mimetype": "text/x-python",
   "name": "python",
   "nbconvert_exporter": "python",
   "pygments_lexer": "ipython3",
   "version": "3.9.6"
  },
  "orig_nbformat": 4
 },
 "nbformat": 4,
 "nbformat_minor": 2
}
