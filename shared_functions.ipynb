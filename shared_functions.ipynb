{
 "cells": [
  {
   "cell_type": "code",
   "execution_count": 1,
   "metadata": {},
   "outputs": [],
   "source": [
    "from datetime import datetime, timedelta\n",
    "import json\n",
    "import matplotlib.pyplot as plt\n",
    "import numpy as np\n",
    "from scipy.interpolate import interp1d\n",
    "import time\n",
    "\n",
    "def plotWithInterpolatedRegression(path, name, annotation=None):\n",
    "    # Load data from path\n",
    "    with open(path) as file:\n",
    "        log = json.load(file)\n",
    "    \n",
    "    # Convert columns to numpy arrays\n",
    "    dates = np.array([entry['date'] for entry in log])\n",
    "    estimated_maxes = np.array([entry['estimatedMax'] for entry in log])\n",
    "\n",
    "    # Convert dates to datetime objects for proper plotting\n",
    "    date_objects = [datetime.strptime(date, \"%m/%d/%Y\") for date in dates]\n",
    "    \n",
    "    # Fill in missing dates\n",
    "    start_date = min(date_objects)\n",
    "    end_date = max(date_objects)\n",
    "    date_range = [start_date + timedelta(days=i) for i in range((end_date - start_date).days + 1)]\n",
    "    date_range_timestamps = [date.timestamp() for date in date_range]\n",
    "    \n",
    "    # Interpolate estimated max values\n",
    "    date_timestamps = [date.timestamp() for date in date_objects]\n",
    "    interpolation_function = interp1d(date_timestamps, estimated_maxes, kind='cubic')\n",
    "    estimated_max_interpolated = interpolation_function(date_range_timestamps)\n",
    "        \n",
    "    # Perform polynomial regression of degree 3\n",
    "    regression_coeffs = np.polyfit(date_range_timestamps, estimated_max_interpolated, 3)\n",
    "    regression = np.poly1d(regression_coeffs)\n",
    "    regression_values = regression(date_range_timestamps)\n",
    "\n",
    "    # Create the line chart\n",
    "    plt.figure(figsize=(10, 6))\n",
    "    plt.plot(date_objects, estimated_maxes, marker='o')\n",
    "    plt.plot(date_range, regression_values, color='red', linestyle='dashed', label='Polynomial Regression')\n",
    "    plt.title(f'{name} - Estimated Max Progression')\n",
    "    plt.xlabel(\"Date\")\n",
    "    plt.ylabel(\"Estimated Max\")\n",
    "    plt.xticks(rotation=45)\n",
    "    \n",
    "    # Optional annotation\n",
    "    if annotation:\n",
    "        plt.annotate(annotation[0], xy=annotation[1], xycoords='axes fraction', fontsize=10, ha='center')\n",
    "        \n",
    "    plt.tight_layout()\n",
    "\n",
    "    # Display the chart\n",
    "    plt.show()"
   ]
  }
 ],
 "metadata": {
  "kernelspec": {
   "display_name": "Python 3",
   "language": "python",
   "name": "python3"
  },
  "language_info": {
   "codemirror_mode": {
    "name": "ipython",
    "version": 3
   },
   "file_extension": ".py",
   "mimetype": "text/x-python",
   "name": "python",
   "nbconvert_exporter": "python",
   "pygments_lexer": "ipython3",
   "version": "3.9.6"
  },
  "orig_nbformat": 4
 },
 "nbformat": 4,
 "nbformat_minor": 2
}
